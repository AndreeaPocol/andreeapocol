{
  "cells": [
    {
      "cell_type": "markdown",
      "metadata": {
        "id": "Fn9VXSj_yjcb"
      },
      "source": [
        "*Question*:\n",
        "Who are the top collaborators in our department? In our individual research areas? When I refer to collaboration, I mean coauthorship with any individual, *not necessarily within the University of Waterloo*.\n",
        "\n",
        "These are the people you want to strike up a conversation with if you’re looking to increase your publications.\n",
        "\n",
        "*Method*: \n",
        "I scraped the various research area pages for the David R. Cheriton School of Computer Science manually - https://cs.uwaterloo.ca/research/research-areas - to obtain the list of faculty members in each research area. \n",
        "\n",
        "I used these lists of names to ask DBLP for each person's DBLP URL, then used this URL in a second query to collect the number of distinct co-authors listed for each person.\n",
        "\n",
        "This visualization allows you to drill down and see results per a specific research area. \n",
        "\n",
        "*Findings*:\n",
        "- I found that data systems was the most collaborative research area, which makes sense as its probably the most broadly-defined research area, with the most room for overlap with other research areas.\n",
        "- Professor Jimmy Lin is the most collaborative overall. To prove I didn't fudge the data for bonus points, here is his DBLP profile. Note that he appears to have broken the coauthor network, which is admittedly a work in progress and \"still far from perfect\" (https://dblp.org/pid/00/7739.html).\n",
        "- Professor Craig Kaplan, one of my supervisors, the most collaborative in my research area of computer graphics.\n",
        "\n",
        "*Issues encountered*:\n",
        "- Multiple authors may have the same name.\n",
        "    - I relied on affiliation for this.\n",
        "    - some professors have common names that aren’t returned in the first 30 results. I bumped it up to 1000, which is the max, but in theory, this could still prove inadequate.\n",
        "- Affiliations are stored by DBLP in the form of notes, which may be dictionaries or lists depending on how many affiliations an author has.\n",
        "    - For robustness, I needed my code to handle both\n",
        "- DBLP doesn’t always contain all of a person’s publications and is thus not always a good indicator of number of co-authors. DBLP \"focuses exclusively on publications in (core) computer science,\" so \"proceedings or journal volumes beyond the scope of dblp may very well never be added.\" (https://dblp.org/faq/How+can+I+enter+my+publications+to+dblp.html)\n",
        "- Some authors are part of more than one research area, e.g., Peter Buhr, who is in both Systems and networking and programming languages. It is not currently possible to order by anything other than category name or total (the sum of all the heights in the group). But the total for Peter Buhr would be twice his true number of collaborators. So rather than sorting by total, I had to export the results to Excel, remove duplicates and thereby manually obtain the true order, then provide the author names in a list for custom sorting.\n"
      ]
    },
    {
      "cell_type": "code",
      "execution_count": 11,
      "metadata": {
        "colab": {
          "base_uri": "https://localhost:8080/",
          "height": 1000
        },
        "id": "yXGXygwpsPKF",
        "outputId": "b98c6a89-bb74-4161-b9e0-b264725d4215"
      },
      "outputs": [
        {
          "name": "stdout",
          "output_type": "stream",
          "text": [
            "Looking in indexes: https://pypi.org/simple, https://us-python.pkg.dev/colab-wheels/public/simple/\n",
            "Requirement already satisfied: xmltodict in /usr/local/lib/python3.7/dist-packages (0.13.0)\n"
          ]
        },
        {
          "data": {
            "text/html": [
              "<html>\n",
              "<head><meta charset=\"utf-8\" /></head>\n",
              "<body>\n",
              "    <div>            <script src=\"https://cdnjs.cloudflare.com/ajax/libs/mathjax/2.7.5/MathJax.js?config=TeX-AMS-MML_SVG\"></script><script type=\"text/javascript\">if (window.MathJax) {MathJax.Hub.Config({SVG: {font: \"STIX-Web\"}});}</script>                <script type=\"text/javascript\">window.PlotlyConfig = {MathJaxConfig: 'local'};</script>\n",
              "        <script src=\"https://cdn.plot.ly/plotly-2.8.3.min.js\"></script>                <div id=\"deedf397-ef23-4a3b-aa5c-4e47446fcb3b\" class=\"plotly-graph-div\" style=\"height:1000px; width:1600px;\"></div>            <script type=\"text/javascript\">                                    window.PLOTLYENV=window.PLOTLYENV || {};                                    if (document.getElementById(\"deedf397-ef23-4a3b-aa5c-4e47446fcb3b\")) {                    Plotly.newPlot(                        \"deedf397-ef23-4a3b-aa5c-4e47446fcb3b\",                        [{\"name\":\"\",\"x\":[],\"y\":[],\"type\":\"bar\",\"width\":0.5},{\"name\":\"Algorithms and complexity\",\"x\":[\"Shai Ben-David\",\"Shalev Ben-David\",\"Therese Biedl\",\"Eric Blais\",\"Dan Brown\",\"Trevor Brown\",\"Jonathan Buss\",\"Richard Cleve\",\"Gautam Kamath\",\"Lila Kari\",\"Lap Chi Lau\",\"Ming Li\",\"Yang Young Lu\",\"Anna Lubiw\",\"Ian Munro\",\"Naomi Nishimura\",\"Prabhakar Ragde\",\"Jeffrey Shallit\",\"Doug Stinson\",\"John Watrous\"],\"y\":[114,33,159,64,40,25,26,66,78,87,41,173,30,216,159,56,47,224,101,45],\"type\":\"bar\",\"width\":0.5},{\"name\":\"Artificial intelligence and machine learning\",\"x\":[\"Shai Ben-David\",\"Yuri Boykov\",\"Dan Brown\",\"Robin Cohen\",\"Kimon Fountoulakis\",\"Ali Ghodsi\",\"Maura R. Grossman\",\"Jesse Hoey\",\"Gautam Kamath\",\"Kate Larson\",\"Edith Law\",\"Jimmy Lin\",\"Pascal Poupart\",\"Peter van Beek\",\"Olga Veksler\",\"Yaoliang Yu\",\"Hongyang Zhang\"],\"y\":[114,75,40,164,34,137,21,140,78,106,180,464,302,94,53,147,112],\"type\":\"bar\",\"width\":0.5},{\"name\":\"Bioinformatics\",\"x\":[\"Dan Brown\",\"Lila Kari\",\"Ming Li\",\"Ian Munro\",\"Andrew Doxey\",\"Anita Layton\",\"Brendan J. McConkey\"],\"y\":[40,87,173,159,10,18,14],\"type\":\"bar\",\"width\":0.5},{\"name\":\"Computer graphics\",\"x\":[\"Christopher Batty\",\"Toshiya Hachisuka\",\"Lesley Istead\",\"Craig Kaplan\",\"Stephen Mann\"],\"y\":[52,72,4,77,53],\"type\":\"bar\",\"width\":0.5},{\"name\":\"Cryptography, security, and privacy (CrySP)\",\"x\":[\"Yousra Aafer\",\"Diogo Barradas\",\"Ian Goldberg\",\"Sergey Gorbunov\",\"Urs Hengartner\",\"Florian Kerschbaum\",\"Ian McKillop\",\"Doug Stinson\"],\"y\":[53,15,131,57,79,169,8,101],\"type\":\"bar\",\"width\":0.5},{\"name\":\"Data systems\",\"x\":[\"Charles Clarke\",\"Gordon Cormack\",\"Khuzaima Daudjee\",\"Lukasz Golab\",\"Maura R. Grossman\",\"Xi He\",\"Ihab Ilyas\",\"Jimmy Lin\",\"Tamer Ozsu\",\"Kenneth Salem\",\"Semih Salihoglu\",\"Mark Smucker\",\"David Toman\",\"Frank Tompa\",\"Grant Weddell\"],\"y\":[169,82,123,129,21,48,175,464,312,114,96,77,61,102,32],\"type\":\"bar\",\"width\":0.5},{\"name\":\"Formal methods\",\"x\":[\"Joanne Atlee\",\"Richard Trefler\",\"Vijay Ganesh\",\"Derek Rayside\",\"John Thistle\"],\"y\":[90,22,157,91,14],\"type\":\"bar\",\"width\":0.5},{\"name\":\"Health informatics\",\"x\":[\"Jesse Hoey\",\"Edith Law\",\"Ming Li\",\"Ian McKillop\",\"Jeff Orchard\",\"Pascal Poupart\",\"Johnny Wong\"],\"y\":[140,180,173,8,54,302,59],\"type\":\"bar\",\"width\":0.5},{\"name\":\"Human computer interaction (HCI)\",\"x\":[\"Edith Law\",\"Dan Vogel\",\"Jian Zhao\"],\"y\":[180,134,99],\"type\":\"bar\",\"width\":0.5},{\"name\":\"Programming languages\",\"x\":[\"Trevor Brown\",\"Peter Buhr\",\"Ondrej Lhotak\",\"Prabhakar Ragde\",\"Yizhou Zhang\",\"Nomair Naeem\",\"Werner Dietl\",\"Patrick Lam\"],\"y\":[25,29,100,47,84,11,50,40],\"type\":\"bar\",\"width\":0.5},{\"name\":\"Quantum computing\",\"x\":[\"Shalev Ben-David\",\"Richard Cleve\",\"John Watrous\"],\"y\":[33,66,45],\"type\":\"bar\",\"width\":0.5},{\"name\":\"Scientific computation\",\"x\":[\"Christopher Batty\",\"Peter Forsyth\",\"Kimon Fountoulakis\",\"George Labahn\",\"Anita Layton\",\"Jeff Orchard\"],\"y\":[52,22,34,70,18,54],\"type\":\"bar\",\"width\":0.5},{\"name\":\"Software engineering\",\"x\":[\"Paulo Alencar\",\"Joanne Atlee\",\"Donald Cowan\",\"Michael Godfrey\",\"Shane McIntosh\",\"Mei Nagappan\",\"Chengnian Sun\",\"Richard Trefler\"],\"y\":[98,90,132,141,109,138,80,22],\"type\":\"bar\",\"width\":0.5},{\"name\":\"Systems and networking\",\"x\":[\"Omid Abari\",\"Samer Al Kiswany\",\"Raouf Boutaba\",\"Tim Brecht\",\"Peter Buhr\",\"Khuzaima Daudjee\",\"Ian Goldberg\",\"Sergey Gorbunov\",\"Urs Hengartner\",\"Martin Karsten\",\"Srinivasan Keshav\",\"Ali Mashtizadeh\",\"Mina Tahmasbi Arashloo\",\"David Taylor\",\"Richard Trefler\",\"Paul Ward\",\"Bernard Wong\",\"Johnny Wong\",\"Hong Zhang\"],\"y\":[51,62,359,109,29,123,131,57,79,47,157,33,36,54,22,46,76,59,112],\"type\":\"bar\",\"width\":0.5}],                        {\"template\":{\"data\":{\"bar\":[{\"error_x\":{\"color\":\"#2a3f5f\"},\"error_y\":{\"color\":\"#2a3f5f\"},\"marker\":{\"line\":{\"color\":\"#E5ECF6\",\"width\":0.5},\"pattern\":{\"fillmode\":\"overlay\",\"size\":10,\"solidity\":0.2}},\"type\":\"bar\"}],\"barpolar\":[{\"marker\":{\"line\":{\"color\":\"#E5ECF6\",\"width\":0.5},\"pattern\":{\"fillmode\":\"overlay\",\"size\":10,\"solidity\":0.2}},\"type\":\"barpolar\"}],\"carpet\":[{\"aaxis\":{\"endlinecolor\":\"#2a3f5f\",\"gridcolor\":\"white\",\"linecolor\":\"white\",\"minorgridcolor\":\"white\",\"startlinecolor\":\"#2a3f5f\"},\"baxis\":{\"endlinecolor\":\"#2a3f5f\",\"gridcolor\":\"white\",\"linecolor\":\"white\",\"minorgridcolor\":\"white\",\"startlinecolor\":\"#2a3f5f\"},\"type\":\"carpet\"}],\"choropleth\":[{\"colorbar\":{\"outlinewidth\":0,\"ticks\":\"\"},\"type\":\"choropleth\"}],\"contour\":[{\"colorbar\":{\"outlinewidth\":0,\"ticks\":\"\"},\"colorscale\":[[0.0,\"#0d0887\"],[0.1111111111111111,\"#46039f\"],[0.2222222222222222,\"#7201a8\"],[0.3333333333333333,\"#9c179e\"],[0.4444444444444444,\"#bd3786\"],[0.5555555555555556,\"#d8576b\"],[0.6666666666666666,\"#ed7953\"],[0.7777777777777778,\"#fb9f3a\"],[0.8888888888888888,\"#fdca26\"],[1.0,\"#f0f921\"]],\"type\":\"contour\"}],\"contourcarpet\":[{\"colorbar\":{\"outlinewidth\":0,\"ticks\":\"\"},\"type\":\"contourcarpet\"}],\"heatmap\":[{\"colorbar\":{\"outlinewidth\":0,\"ticks\":\"\"},\"colorscale\":[[0.0,\"#0d0887\"],[0.1111111111111111,\"#46039f\"],[0.2222222222222222,\"#7201a8\"],[0.3333333333333333,\"#9c179e\"],[0.4444444444444444,\"#bd3786\"],[0.5555555555555556,\"#d8576b\"],[0.6666666666666666,\"#ed7953\"],[0.7777777777777778,\"#fb9f3a\"],[0.8888888888888888,\"#fdca26\"],[1.0,\"#f0f921\"]],\"type\":\"heatmap\"}],\"heatmapgl\":[{\"colorbar\":{\"outlinewidth\":0,\"ticks\":\"\"},\"colorscale\":[[0.0,\"#0d0887\"],[0.1111111111111111,\"#46039f\"],[0.2222222222222222,\"#7201a8\"],[0.3333333333333333,\"#9c179e\"],[0.4444444444444444,\"#bd3786\"],[0.5555555555555556,\"#d8576b\"],[0.6666666666666666,\"#ed7953\"],[0.7777777777777778,\"#fb9f3a\"],[0.8888888888888888,\"#fdca26\"],[1.0,\"#f0f921\"]],\"type\":\"heatmapgl\"}],\"histogram\":[{\"marker\":{\"pattern\":{\"fillmode\":\"overlay\",\"size\":10,\"solidity\":0.2}},\"type\":\"histogram\"}],\"histogram2d\":[{\"colorbar\":{\"outlinewidth\":0,\"ticks\":\"\"},\"colorscale\":[[0.0,\"#0d0887\"],[0.1111111111111111,\"#46039f\"],[0.2222222222222222,\"#7201a8\"],[0.3333333333333333,\"#9c179e\"],[0.4444444444444444,\"#bd3786\"],[0.5555555555555556,\"#d8576b\"],[0.6666666666666666,\"#ed7953\"],[0.7777777777777778,\"#fb9f3a\"],[0.8888888888888888,\"#fdca26\"],[1.0,\"#f0f921\"]],\"type\":\"histogram2d\"}],\"histogram2dcontour\":[{\"colorbar\":{\"outlinewidth\":0,\"ticks\":\"\"},\"colorscale\":[[0.0,\"#0d0887\"],[0.1111111111111111,\"#46039f\"],[0.2222222222222222,\"#7201a8\"],[0.3333333333333333,\"#9c179e\"],[0.4444444444444444,\"#bd3786\"],[0.5555555555555556,\"#d8576b\"],[0.6666666666666666,\"#ed7953\"],[0.7777777777777778,\"#fb9f3a\"],[0.8888888888888888,\"#fdca26\"],[1.0,\"#f0f921\"]],\"type\":\"histogram2dcontour\"}],\"mesh3d\":[{\"colorbar\":{\"outlinewidth\":0,\"ticks\":\"\"},\"type\":\"mesh3d\"}],\"parcoords\":[{\"line\":{\"colorbar\":{\"outlinewidth\":0,\"ticks\":\"\"}},\"type\":\"parcoords\"}],\"pie\":[{\"automargin\":true,\"type\":\"pie\"}],\"scatter\":[{\"marker\":{\"colorbar\":{\"outlinewidth\":0,\"ticks\":\"\"}},\"type\":\"scatter\"}],\"scatter3d\":[{\"line\":{\"colorbar\":{\"outlinewidth\":0,\"ticks\":\"\"}},\"marker\":{\"colorbar\":{\"outlinewidth\":0,\"ticks\":\"\"}},\"type\":\"scatter3d\"}],\"scattercarpet\":[{\"marker\":{\"colorbar\":{\"outlinewidth\":0,\"ticks\":\"\"}},\"type\":\"scattercarpet\"}],\"scattergeo\":[{\"marker\":{\"colorbar\":{\"outlinewidth\":0,\"ticks\":\"\"}},\"type\":\"scattergeo\"}],\"scattergl\":[{\"marker\":{\"colorbar\":{\"outlinewidth\":0,\"ticks\":\"\"}},\"type\":\"scattergl\"}],\"scattermapbox\":[{\"marker\":{\"colorbar\":{\"outlinewidth\":0,\"ticks\":\"\"}},\"type\":\"scattermapbox\"}],\"scatterpolar\":[{\"marker\":{\"colorbar\":{\"outlinewidth\":0,\"ticks\":\"\"}},\"type\":\"scatterpolar\"}],\"scatterpolargl\":[{\"marker\":{\"colorbar\":{\"outlinewidth\":0,\"ticks\":\"\"}},\"type\":\"scatterpolargl\"}],\"scatterternary\":[{\"marker\":{\"colorbar\":{\"outlinewidth\":0,\"ticks\":\"\"}},\"type\":\"scatterternary\"}],\"surface\":[{\"colorbar\":{\"outlinewidth\":0,\"ticks\":\"\"},\"colorscale\":[[0.0,\"#0d0887\"],[0.1111111111111111,\"#46039f\"],[0.2222222222222222,\"#7201a8\"],[0.3333333333333333,\"#9c179e\"],[0.4444444444444444,\"#bd3786\"],[0.5555555555555556,\"#d8576b\"],[0.6666666666666666,\"#ed7953\"],[0.7777777777777778,\"#fb9f3a\"],[0.8888888888888888,\"#fdca26\"],[1.0,\"#f0f921\"]],\"type\":\"surface\"}],\"table\":[{\"cells\":{\"fill\":{\"color\":\"#EBF0F8\"},\"line\":{\"color\":\"white\"}},\"header\":{\"fill\":{\"color\":\"#C8D4E3\"},\"line\":{\"color\":\"white\"}},\"type\":\"table\"}]},\"layout\":{\"annotationdefaults\":{\"arrowcolor\":\"#2a3f5f\",\"arrowhead\":0,\"arrowwidth\":1},\"autotypenumbers\":\"strict\",\"coloraxis\":{\"colorbar\":{\"outlinewidth\":0,\"ticks\":\"\"}},\"colorscale\":{\"diverging\":[[0,\"#8e0152\"],[0.1,\"#c51b7d\"],[0.2,\"#de77ae\"],[0.3,\"#f1b6da\"],[0.4,\"#fde0ef\"],[0.5,\"#f7f7f7\"],[0.6,\"#e6f5d0\"],[0.7,\"#b8e186\"],[0.8,\"#7fbc41\"],[0.9,\"#4d9221\"],[1,\"#276419\"]],\"sequential\":[[0.0,\"#0d0887\"],[0.1111111111111111,\"#46039f\"],[0.2222222222222222,\"#7201a8\"],[0.3333333333333333,\"#9c179e\"],[0.4444444444444444,\"#bd3786\"],[0.5555555555555556,\"#d8576b\"],[0.6666666666666666,\"#ed7953\"],[0.7777777777777778,\"#fb9f3a\"],[0.8888888888888888,\"#fdca26\"],[1.0,\"#f0f921\"]],\"sequentialminus\":[[0.0,\"#0d0887\"],[0.1111111111111111,\"#46039f\"],[0.2222222222222222,\"#7201a8\"],[0.3333333333333333,\"#9c179e\"],[0.4444444444444444,\"#bd3786\"],[0.5555555555555556,\"#d8576b\"],[0.6666666666666666,\"#ed7953\"],[0.7777777777777778,\"#fb9f3a\"],[0.8888888888888888,\"#fdca26\"],[1.0,\"#f0f921\"]]},\"colorway\":[\"#636efa\",\"#EF553B\",\"#00cc96\",\"#ab63fa\",\"#FFA15A\",\"#19d3f3\",\"#FF6692\",\"#B6E880\",\"#FF97FF\",\"#FECB52\"],\"font\":{\"color\":\"#2a3f5f\"},\"geo\":{\"bgcolor\":\"white\",\"lakecolor\":\"white\",\"landcolor\":\"#E5ECF6\",\"showlakes\":true,\"showland\":true,\"subunitcolor\":\"white\"},\"hoverlabel\":{\"align\":\"left\"},\"hovermode\":\"closest\",\"mapbox\":{\"style\":\"light\"},\"paper_bgcolor\":\"white\",\"plot_bgcolor\":\"#E5ECF6\",\"polar\":{\"angularaxis\":{\"gridcolor\":\"white\",\"linecolor\":\"white\",\"ticks\":\"\"},\"bgcolor\":\"#E5ECF6\",\"radialaxis\":{\"gridcolor\":\"white\",\"linecolor\":\"white\",\"ticks\":\"\"}},\"scene\":{\"xaxis\":{\"backgroundcolor\":\"#E5ECF6\",\"gridcolor\":\"white\",\"gridwidth\":2,\"linecolor\":\"white\",\"showbackground\":true,\"ticks\":\"\",\"zerolinecolor\":\"white\"},\"yaxis\":{\"backgroundcolor\":\"#E5ECF6\",\"gridcolor\":\"white\",\"gridwidth\":2,\"linecolor\":\"white\",\"showbackground\":true,\"ticks\":\"\",\"zerolinecolor\":\"white\"},\"zaxis\":{\"backgroundcolor\":\"#E5ECF6\",\"gridcolor\":\"white\",\"gridwidth\":2,\"linecolor\":\"white\",\"showbackground\":true,\"ticks\":\"\",\"zerolinecolor\":\"white\"}},\"shapedefaults\":{\"line\":{\"color\":\"#2a3f5f\"}},\"ternary\":{\"aaxis\":{\"gridcolor\":\"white\",\"linecolor\":\"white\",\"ticks\":\"\"},\"baxis\":{\"gridcolor\":\"white\",\"linecolor\":\"white\",\"ticks\":\"\"},\"bgcolor\":\"#E5ECF6\",\"caxis\":{\"gridcolor\":\"white\",\"linecolor\":\"white\",\"ticks\":\"\"}},\"title\":{\"x\":0.05},\"xaxis\":{\"automargin\":true,\"gridcolor\":\"white\",\"linecolor\":\"white\",\"ticks\":\"\",\"title\":{\"standoff\":15},\"zerolinecolor\":\"white\",\"zerolinewidth\":2},\"yaxis\":{\"automargin\":true,\"gridcolor\":\"white\",\"linecolor\":\"white\",\"ticks\":\"\",\"title\":{\"standoff\":15},\"zerolinecolor\":\"white\",\"zerolinewidth\":2}}},\"title\":{\"text\":\"Collaboration in the David R. Cheriton School of Computer Science at the University of Waterloo\",\"x\":0.5},\"barmode\":\"group\",\"width\":1600,\"height\":1000,\"xaxis\":{\"categoryorder\":\"array\",\"categoryarray\":[\"Lesley Istead\",\"Ian McKillop\",\"Ian McKillop\",\"Andrew Doxey\",\"Nomair Naeem\",\"Brendan J. McConkey\",\"John Thistle\",\"Diogo Barradas\",\"Anita Layton\",\"Anita Layton\",\"Maura R. Grossman\",\"Maura R. Grossman\",\"Richard Trefler\",\"Peter Forsyth\",\"Richard Trefler\",\"Richard Trefler\",\"Trevor Brown\",\"Trevor Brown\",\"Jonathan Buss\",\"Peter Buhr\",\"Peter Buhr\",\"Yang Young Lu\",\"Grant Weddell\",\"Shalev Ben-David\",\"Shalev Ben-David\",\"Ali Mashtizadeh\",\"Kimon Fountoulakis\",\"Kimon Fountoulakis\",\"Mina Tahmasbi Arashloo\",\"Dan Brown\",\"Dan Brown\",\"Dan Brown\",\"Patrick Lam\",\"Lap Chi Lau\",\"John Watrous\",\"John Watrous\",\"Paul Ward\",\"Prabhakar Ragde\",\"Prabhakar Ragde\",\"Martin Karsten\",\"Xi He\",\"Werner Dietl\",\"Omid Abari\",\"Christopher Batty\",\"Christopher Batty\",\"Olga Veksler\",\"Stephen Mann\",\"Yousra Aafer\",\"Jeff Orchard\",\"Jeff Orchard\",\"David Taylor\",\"Naomi Nishimura\",\"Sergey Gorbunov\",\"Sergey Gorbunov\",\"Johnny Wong\",\"Johnny Wong\",\"David Toman\",\"Samer Al Kiswany\",\"Eric Blais\",\"Richard Cleve\",\"Richard Cleve\",\"George Labahn\",\"Toshiya Hachisuka\",\"Yuri Boykov\",\"Bernard Wong\",\"Craig Kaplan\",\"Mark Smucker\",\"Gautam Kamath\",\"Gautam Kamath\",\"Urs Hengartner\",\"Urs Hengartner\",\"Chengnian Sun\",\"Gordon Cormack\",\"Yizhou Zhang\",\"Lila Kari\",\"Lila Kari\",\"Joanne Atlee\",\"Joanne Atlee\",\"Derek Rayside\",\"Peter van Beek\",\"Semih Salihoglu\",\"Paulo Alencar\",\"Jian Zhao\",\"Ondrej Lhotak\",\"Doug Stinson\",\"Doug Stinson\",\"Frank Tompa\",\"Kate Larson\",\"Shane McIntosh\",\"Tim Brecht\",\"Hongyang Zhang\",\"Hong Zhang\",\"Shai Ben-David\",\"Shai Ben-David\",\"Kenneth Salem\",\"Khuzaima Daudjee\",\"Khuzaima Daudjee\",\"Lukasz Golab\",\"Ian Goldberg\",\"Ian Goldberg\",\"Donald Cowan\",\"Dan Vogel\",\"Ali Ghodsi\",\"Mei Nagappan\",\"Jesse Hoey\",\"Jesse Hoey\",\"Michael Godfrey\",\"Yaoliang Yu\",\"Vijay Ganesh\",\"Srinivasan Keshav\",\"Therese Biedl\",\"Ian Munro\",\"Ian Munro\",\"Robin Cohen\",\"Florian Kerschbaum\",\"Charles Clarke\",\"Ming Li\",\"Ming Li\",\"Ming Li\",\"Ihab Ilyas\",\"Edith Law\",\"Edith Law\",\"Edith Law\",\"Anna Lubiw\",\"Jeffrey Shallit\",\"Pascal Poupart\",\"Pascal Poupart\",\"Tamer Ozsu\",\"Raouf Boutaba\",\"Jimmy Lin\",\"Jimmy Lin\"],\"tickmode\":\"linear\",\"title\":{\"text\":\"Name\"}},\"yaxis\":{\"title\":{\"text\":\"Number of coauthors\"}}},                        {\"responsive\": true}                    ).then(function(){\n",
              "                            \n",
              "var gd = document.getElementById('deedf397-ef23-4a3b-aa5c-4e47446fcb3b');\n",
              "var x = new MutationObserver(function (mutations, observer) {{\n",
              "        var display = window.getComputedStyle(gd).display;\n",
              "        if (!display || display === 'none') {{\n",
              "            console.log([gd, 'removed!']);\n",
              "            Plotly.purge(gd);\n",
              "            observer.disconnect();\n",
              "        }}\n",
              "}});\n",
              "\n",
              "// Listen for the removal of the full notebook cells\n",
              "var notebookContainer = gd.closest('#notebook-container');\n",
              "if (notebookContainer) {{\n",
              "    x.observe(notebookContainer, {childList: true});\n",
              "}}\n",
              "\n",
              "// Listen for the clearing of the current output cell\n",
              "var outputEl = gd.closest('.output');\n",
              "if (outputEl) {{\n",
              "    x.observe(outputEl, {childList: true});\n",
              "}}\n",
              "\n",
              "                        })                };                            </script>        </div>\n",
              "</body>\n",
              "</html>"
            ]
          },
          "metadata": {},
          "output_type": "display_data"
        }
      ],
      "source": [
        "!pip install xmltodict\n",
        "\n",
        "# top collaborators in all research areas, grouped by research area; interactive\n",
        "\n",
        "import plotly.graph_objects as go\n",
        "import pandas as pd\n",
        "import requests\n",
        "import json\n",
        "import xmltodict\n",
        "import matplotlib.pyplot as plt\n",
        "import csv\n",
        "\n",
        "def plot():\n",
        "  domains = [\n",
        "      \"Algorithms and complexity\",\n",
        "      \"Artificial intelligence and machine learning\",\n",
        "      \"Bioinformatics\",\n",
        "      \"Computer graphics\",\n",
        "      \"Cryptography, security, and privacy (CrySP)\",\n",
        "      \"Data systems\",\n",
        "      \"Formal methods\",\n",
        "      \"Health informatics\",\n",
        "      \"Human computer interaction (HCI)\",\n",
        "      \"Programming languages\",\n",
        "      \"Quantum computing\",\n",
        "      \"Scientific computation\",\n",
        "      \"Software engineering\",\n",
        "      \"Systems and networking\"\n",
        "  ]\n",
        "\n",
        "  profs_by_coauthors = [ \"Lesley Istead\", \"Ian McKillop\", \"Ian McKillop\", \"Andrew Doxey\", \"Nomair Naeem\", \"Brendan J. McConkey\", \"John Thistle\", \"Diogo Barradas\", \"Anita Layton\", \"Anita Layton\", \"Maura R. Grossman\", \"Maura R. Grossman\", \"Richard Trefler\", \"Peter Forsyth\", \"Richard Trefler\", \"Richard Trefler\", \"Trevor Brown\", \"Trevor Brown\", \"Jonathan Buss\", \"Peter Buhr\", \"Peter Buhr\", \"Yang Young Lu\", \"Grant Weddell\", \"Shalev Ben-David\", \"Shalev Ben-David\", \"Ali Mashtizadeh\", \"Kimon Fountoulakis\", \"Kimon Fountoulakis\", \"Mina Tahmasbi Arashloo\", \"Dan Brown\", \"Dan Brown\", \"Dan Brown\", \"Patrick Lam\", \"Lap Chi Lau\", \"John Watrous\", \"John Watrous\", \"Paul Ward\", \"Prabhakar Ragde\", \"Prabhakar Ragde\", \"Martin Karsten\", \"Xi He\", \"Werner Dietl\", \"Omid Abari\", \"Christopher Batty\", \"Christopher Batty\", \"Olga Veksler\", \"Stephen Mann\", \"Yousra Aafer\", \"Jeff Orchard\", \"Jeff Orchard\", \"David Taylor\", \"Naomi Nishimura\", \"Sergey Gorbunov\", \"Sergey Gorbunov\", \"Johnny Wong\", \"Johnny Wong\", \"David Toman\", \"Samer Al Kiswany\", \"Eric Blais\", \"Richard Cleve\", \"Richard Cleve\", \"George Labahn\", \"Toshiya Hachisuka\", \"Yuri Boykov\", \"Bernard Wong\", \"Craig Kaplan\", \"Mark Smucker\", \"Gautam Kamath\", \"Gautam Kamath\", \"Urs Hengartner\", \"Urs Hengartner\", \"Chengnian Sun\", \"Gordon Cormack\", \"Yizhou Zhang\", \"Lila Kari\", \"Lila Kari\", \"Joanne Atlee\", \"Joanne Atlee\", \"Derek Rayside\", \"Peter van Beek\", \"Semih Salihoglu\", \"Paulo Alencar\", \"Jian Zhao\", \"Ondrej Lhotak\", \"Doug Stinson\", \"Doug Stinson\", \"Frank Tompa\", \"Kate Larson\", \"Shane McIntosh\", \"Tim Brecht\", \"Hongyang Zhang\", \"Hong Zhang\", \"Shai Ben-David\", \"Shai Ben-David\", \"Kenneth Salem\", \"Khuzaima Daudjee\", \"Khuzaima Daudjee\", \"Lukasz Golab\", \"Ian Goldberg\", \"Ian Goldberg\", \"Donald Cowan\", \"Dan Vogel\", \"Ali Ghodsi\", \"Mei Nagappan\", \"Jesse Hoey\", \"Jesse Hoey\", \"Michael Godfrey\", \"Yaoliang Yu\", \"Vijay Ganesh\", \"Srinivasan Keshav\", \"Therese Biedl\", \"Ian Munro\", \"Ian Munro\", \"Robin Cohen\", \"Florian Kerschbaum\", \"Charles Clarke\", \"Ming Li\", \"Ming Li\", \"Ming Li\", \"Ihab Ilyas\", \"Edith Law\", \"Edith Law\", \"Edith Law\", \"Anna Lubiw\", \"Jeffrey Shallit\", \"Pascal Poupart\", \"Pascal Poupart\", \"Tamer Ozsu\", \"Raouf Boutaba\", \"Jimmy Lin\", \"Jimmy Lin\", ]\n",
        "  fig = go.Figure(go.Bar(x = [], y = [], name = \"\"))\n",
        "\n",
        "  for domain in domains:\n",
        "      data = pd.read_csv(\"{domain} coauthor results.csv\".format(domain=domain))\n",
        "      fig.add_trace(go.Bar(x = data.Name, y = data.Coauthors, name=domain))\n",
        "\n",
        "  fig.update_layout(barmode = 'group', width=1600, height=1000, title = \"Collaboration in the David R. Cheriton School of Computer Science at the University of Waterloo\", title_x=0.5)\n",
        "  fig.update_xaxes(categoryorder = 'array', categoryarray = profs_by_coauthors, tickmode='linear', title = 'Name')\n",
        "  fig.update_yaxes(title = 'Number of coauthors')\n",
        "\n",
        "  fig.update_traces(width=0.5)\n",
        "  fig.show()\n",
        "plot()\n"
      ]
    },
    {
      "cell_type": "markdown",
      "metadata": {
        "id": "H9B3L7aZ8doa"
      },
      "source": [
        "*Question*: My next question was: how does this collaboration impact publication? Does collaborating more generally correlate with more publications? Less? \n",
        "\n",
        "*Method*: Heat map comparing number of publications with number of coauthors. \n",
        "Four quadrants correspond to four possibilities of where most points are clustered. \n",
        "Do most people:\n",
        "1. collaborate a lot and publish a lot?\n",
        "2. collaborate a lot and publish little?\n",
        "3. collaborate little and publish a lot?\n",
        "4. collaborate little and publish little?\n",
        "\n",
        "Note that you can adjust the granularity by using the bin size slider (the more bins, the fewer the data points inside each bin). A diagonal line splits the figure in half. In the segment above the diagonal line, people have more publications than coauthors. This is generally indicative of less collaboration. In the segment below the diagonal line, people have more coauthors than publications. This is generally indicative of more collaboration. \n",
        "\n",
        "You can also view results by research area, as before.\n",
        "\n",
        "As a sanity check, we search for professor Jimmy Lin in this second visualization. The first visualization tells us he has 464 coauthors. He stands out right away in the second visualiation, with 495 publications. Terrifying.\n",
        "\n",
        "*Findings*:\n",
        "The results are consistent with intuition. There appears to be a positive linear corelation between publications and coauthors, since, as coauthors increase, publications must necessarily also be increasing. Note that the inverse relationship isn't true; an increase in publications doesn't imply an increase in coauthors, as people could choose to publish within their existing collaboration network rather than branching out to others outside that network.\n",
        "Nevertheless, the relationship between the dependent variable, publications, and in the independent variable, coauthors, is not directly proportional, or 1:1. The ratio depends on the number of coauthors on a published paper, which is in constant flux. That's what makes this analysis interesting; some people collaborate with many coauthors on a paper while others collaborate with fewer.\n",
        "\n",
        "Most people fall into category 4, with what appears to be a slight trend towards heads-down work with limited collaboration. Indicating this, you can see slightly more datapoints above the diagonal line.\n",
        "\n",
        "One noteworthy result is that the Cryptography, security, and privacy (CrySP) research area tends to collaborate quite heavily, with most people in this group having far more unique coauthors than they do papers. \n",
        "\n",
        "*Issues encountered*:\n",
        "Limitations are largely the same as for the first visualization.\n",
        "\n",
        "The small number of people in each research area makes the per-research-area results generally less interesting. For example, there are only 3 data points for Quantum computing because there are only 3 members listed here: https://cs.uwaterloo.ca/research/research-areas/quantum-computing! As a future extension, this project could use a larger dataset."
      ]
    },
    {
      "cell_type": "code",
      "execution_count": 12,
      "metadata": {
        "colab": {
          "base_uri": "https://localhost:8080/"
        },
        "id": "0dwBmC1Czd2C",
        "outputId": "0e47d8e7-f5c9-41ac-e4d4-7f9a932f3d49"
      },
      "outputs": [
        {
          "name": "stdout",
          "output_type": "stream",
          "text": [
            "Looking in indexes: https://pypi.org/simple, https://us-python.pkg.dev/colab-wheels/public/simple/\n",
            "Requirement already satisfied: ipywidgets in /usr/local/lib/python3.7/dist-packages (7.7.1)\n",
            "Requirement already satisfied: widgetsnbextension~=3.6.0 in /usr/local/lib/python3.7/dist-packages (from ipywidgets) (3.6.1)\n",
            "Requirement already satisfied: jupyterlab-widgets>=1.0.0 in /usr/local/lib/python3.7/dist-packages (from ipywidgets) (3.0.3)\n",
            "Requirement already satisfied: ipykernel>=4.5.1 in /usr/local/lib/python3.7/dist-packages (from ipywidgets) (5.3.4)\n",
            "Requirement already satisfied: ipython-genutils~=0.2.0 in /usr/local/lib/python3.7/dist-packages (from ipywidgets) (0.2.0)\n",
            "Requirement already satisfied: traitlets>=4.3.1 in /usr/local/lib/python3.7/dist-packages (from ipywidgets) (5.1.1)\n",
            "Requirement already satisfied: ipython>=4.0.0 in /usr/local/lib/python3.7/dist-packages (from ipywidgets) (7.9.0)\n",
            "Requirement already satisfied: jupyter-client in /usr/local/lib/python3.7/dist-packages (from ipykernel>=4.5.1->ipywidgets) (6.1.12)\n",
            "Requirement already satisfied: tornado>=4.2 in /usr/local/lib/python3.7/dist-packages (from ipykernel>=4.5.1->ipywidgets) (5.1.1)\n",
            "Requirement already satisfied: pickleshare in /usr/local/lib/python3.7/dist-packages (from ipython>=4.0.0->ipywidgets) (0.7.5)\n",
            "Requirement already satisfied: backcall in /usr/local/lib/python3.7/dist-packages (from ipython>=4.0.0->ipywidgets) (0.2.0)\n",
            "Requirement already satisfied: setuptools>=18.5 in /usr/local/lib/python3.7/dist-packages (from ipython>=4.0.0->ipywidgets) (57.4.0)\n",
            "Requirement already satisfied: pygments in /usr/local/lib/python3.7/dist-packages (from ipython>=4.0.0->ipywidgets) (2.6.1)\n",
            "Requirement already satisfied: prompt-toolkit<2.1.0,>=2.0.0 in /usr/local/lib/python3.7/dist-packages (from ipython>=4.0.0->ipywidgets) (2.0.10)\n",
            "Requirement already satisfied: decorator in /usr/local/lib/python3.7/dist-packages (from ipython>=4.0.0->ipywidgets) (4.4.2)\n",
            "Requirement already satisfied: jedi>=0.10 in /usr/local/lib/python3.7/dist-packages (from ipython>=4.0.0->ipywidgets) (0.18.1)\n",
            "Requirement already satisfied: pexpect in /usr/local/lib/python3.7/dist-packages (from ipython>=4.0.0->ipywidgets) (4.8.0)\n",
            "Requirement already satisfied: parso<0.9.0,>=0.8.0 in /usr/local/lib/python3.7/dist-packages (from jedi>=0.10->ipython>=4.0.0->ipywidgets) (0.8.3)\n",
            "Requirement already satisfied: six>=1.9.0 in /usr/local/lib/python3.7/dist-packages (from prompt-toolkit<2.1.0,>=2.0.0->ipython>=4.0.0->ipywidgets) (1.15.0)\n",
            "Requirement already satisfied: wcwidth in /usr/local/lib/python3.7/dist-packages (from prompt-toolkit<2.1.0,>=2.0.0->ipython>=4.0.0->ipywidgets) (0.2.5)\n",
            "Requirement already satisfied: notebook>=4.4.1 in /usr/local/lib/python3.7/dist-packages (from widgetsnbextension~=3.6.0->ipywidgets) (5.5.0)\n",
            "Requirement already satisfied: nbconvert in /usr/local/lib/python3.7/dist-packages (from notebook>=4.4.1->widgetsnbextension~=3.6.0->ipywidgets) (5.6.1)\n",
            "Requirement already satisfied: jinja2 in /usr/local/lib/python3.7/dist-packages (from notebook>=4.4.1->widgetsnbextension~=3.6.0->ipywidgets) (2.11.3)\n",
            "Requirement already satisfied: jupyter-core>=4.4.0 in /usr/local/lib/python3.7/dist-packages (from notebook>=4.4.1->widgetsnbextension~=3.6.0->ipywidgets) (4.11.1)\n",
            "Requirement already satisfied: pyzmq>=17 in /usr/local/lib/python3.7/dist-packages (from notebook>=4.4.1->widgetsnbextension~=3.6.0->ipywidgets) (23.2.1)\n",
            "Requirement already satisfied: nbformat in /usr/local/lib/python3.7/dist-packages (from notebook>=4.4.1->widgetsnbextension~=3.6.0->ipywidgets) (5.7.0)\n",
            "Requirement already satisfied: terminado>=0.8.1 in /usr/local/lib/python3.7/dist-packages (from notebook>=4.4.1->widgetsnbextension~=3.6.0->ipywidgets) (0.13.3)\n",
            "Requirement already satisfied: Send2Trash in /usr/local/lib/python3.7/dist-packages (from notebook>=4.4.1->widgetsnbextension~=3.6.0->ipywidgets) (1.8.0)\n",
            "Requirement already satisfied: python-dateutil>=2.1 in /usr/local/lib/python3.7/dist-packages (from jupyter-client->ipykernel>=4.5.1->ipywidgets) (2.8.2)\n",
            "Requirement already satisfied: ptyprocess in /usr/local/lib/python3.7/dist-packages (from terminado>=0.8.1->notebook>=4.4.1->widgetsnbextension~=3.6.0->ipywidgets) (0.7.0)\n",
            "Requirement already satisfied: MarkupSafe>=0.23 in /usr/local/lib/python3.7/dist-packages (from jinja2->notebook>=4.4.1->widgetsnbextension~=3.6.0->ipywidgets) (2.0.1)\n",
            "Requirement already satisfied: pandocfilters>=1.4.1 in /usr/local/lib/python3.7/dist-packages (from nbconvert->notebook>=4.4.1->widgetsnbextension~=3.6.0->ipywidgets) (1.5.0)\n",
            "Requirement already satisfied: defusedxml in /usr/local/lib/python3.7/dist-packages (from nbconvert->notebook>=4.4.1->widgetsnbextension~=3.6.0->ipywidgets) (0.7.1)\n",
            "Requirement already satisfied: mistune<2,>=0.8.1 in /usr/local/lib/python3.7/dist-packages (from nbconvert->notebook>=4.4.1->widgetsnbextension~=3.6.0->ipywidgets) (0.8.4)\n",
            "Requirement already satisfied: testpath in /usr/local/lib/python3.7/dist-packages (from nbconvert->notebook>=4.4.1->widgetsnbextension~=3.6.0->ipywidgets) (0.6.0)\n",
            "Requirement already satisfied: bleach in /usr/local/lib/python3.7/dist-packages (from nbconvert->notebook>=4.4.1->widgetsnbextension~=3.6.0->ipywidgets) (5.0.1)\n",
            "Requirement already satisfied: entrypoints>=0.2.2 in /usr/local/lib/python3.7/dist-packages (from nbconvert->notebook>=4.4.1->widgetsnbextension~=3.6.0->ipywidgets) (0.4)\n",
            "Requirement already satisfied: fastjsonschema in /usr/local/lib/python3.7/dist-packages (from nbformat->notebook>=4.4.1->widgetsnbextension~=3.6.0->ipywidgets) (2.16.2)\n",
            "Requirement already satisfied: importlib-metadata>=3.6 in /usr/local/lib/python3.7/dist-packages (from nbformat->notebook>=4.4.1->widgetsnbextension~=3.6.0->ipywidgets) (5.0.0)\n",
            "Requirement already satisfied: jsonschema>=2.6 in /usr/local/lib/python3.7/dist-packages (from nbformat->notebook>=4.4.1->widgetsnbextension~=3.6.0->ipywidgets) (4.3.3)\n",
            "Requirement already satisfied: zipp>=0.5 in /usr/local/lib/python3.7/dist-packages (from importlib-metadata>=3.6->nbformat->notebook>=4.4.1->widgetsnbextension~=3.6.0->ipywidgets) (3.9.0)\n",
            "Requirement already satisfied: typing-extensions>=3.6.4 in /usr/local/lib/python3.7/dist-packages (from importlib-metadata>=3.6->nbformat->notebook>=4.4.1->widgetsnbextension~=3.6.0->ipywidgets) (4.1.1)\n",
            "Requirement already satisfied: attrs>=17.4.0 in /usr/local/lib/python3.7/dist-packages (from jsonschema>=2.6->nbformat->notebook>=4.4.1->widgetsnbextension~=3.6.0->ipywidgets) (22.1.0)\n",
            "Requirement already satisfied: pyrsistent!=0.17.0,!=0.17.1,!=0.17.2,>=0.14.0 in /usr/local/lib/python3.7/dist-packages (from jsonschema>=2.6->nbformat->notebook>=4.4.1->widgetsnbextension~=3.6.0->ipywidgets) (0.18.1)\n",
            "Requirement already satisfied: importlib-resources>=1.4.0 in /usr/local/lib/python3.7/dist-packages (from jsonschema>=2.6->nbformat->notebook>=4.4.1->widgetsnbextension~=3.6.0->ipywidgets) (5.10.0)\n",
            "Requirement already satisfied: webencodings in /usr/local/lib/python3.7/dist-packages (from bleach->nbconvert->notebook>=4.4.1->widgetsnbextension~=3.6.0->ipywidgets) (0.5.1)\n"
          ]
        }
      ],
      "source": [
        "!pip install ipywidgets\n",
        "\n",
        "import ipywidgets\n",
        "import pandas as pd\n",
        "import plotly.express as px\n",
        "from matplotlib.widgets import Slider\n",
        "import numpy as np\n",
        "import matplotlib.pyplot as plt\n",
        "\n",
        "def plot_heatmap(bin_size=50, research_area=\"All\"):\n",
        "  data = []\n",
        "  if research_area == \"All\":\n",
        "    data = pd.read_csv(\"all coauthor vs publication results.csv\")\n",
        "  else:\n",
        "    data = pd.read_csv(\"{domain} coauthor publication results.csv\".format(domain=research_area))\n",
        "\n",
        "  hm = px.density_heatmap(data, x=\"Coauthors\", y=\"Publications\", title=\"Coauthors vs Publications in the David R. Cheriton School of Computer Science, University of Waterloo\", nbinsx=bin_size, nbinsy=bin_size, width=1000, height=1000)\n",
        "  hm.update_yaxes(tickmode='array', tickvals = [0, 50, 100, 150, 200, 250, 300, 350, 400, 450, 500])\n",
        "\n",
        "  hm.update_layout(shapes = [{'type': 'line', 'yref': 'paper', 'xref': 'paper', 'y0': 0, 'y1': 1, 'x0': 0, 'x1': 1}])\n",
        "  hm.show()"
      ]
    },
    {
      "cell_type": "code",
      "execution_count": 14,
      "metadata": {
        "colab": {
          "base_uri": "https://localhost:8080/",
          "height": 1000,
          "referenced_widgets": [
            "658d18adaad642c189154a08147708f5",
            "19a90df990d04e9a98eeb15b46133545",
            "a813f1f5aa4a4e2ab851a3eae735383a",
            "ab6d207b57ff4094b898b082619ce418",
            "674e84be395d4160bbd7b8ce55b0b7a0",
            "98ce88f893c5407fb6c3eeb87197efbb",
            "389999fefbc2476aa6574e964fc0f753",
            "64707c61adae48df99162b54147474e9",
            "26b191c336d3404198b5243d18aebe3b",
            "0c036d15b8c840dda0836c8e770b8a1d"
          ]
        },
        "id": "lWMAD7LwzHvm",
        "outputId": "5d3f222f-f8a4-419f-ffe3-9960b56b3cfe"
      },
      "outputs": [
        {
          "data": {
            "application/vnd.jupyter.widget-view+json": {
              "model_id": "658d18adaad642c189154a08147708f5",
              "version_major": 2,
              "version_minor": 0
            },
            "text/plain": [
              "interactive(children=(IntSlider(value=50, description='bin_size', step=5), Dropdown(description='research_area…"
            ]
          },
          "metadata": {},
          "output_type": "display_data"
        },
        {
          "data": {
            "text/plain": [
              "<function __main__.plot_heatmap(bin_size=50, research_area='All')>"
            ]
          },
          "execution_count": 14,
          "metadata": {},
          "output_type": "execute_result"
        }
      ],
      "source": [
        "\n",
        "\n",
        "options=[\n",
        "    \"All\",\n",
        "    \"Algorithms and complexity\",\n",
        "    \"Artificial intelligence and machine learning\",\n",
        "    \"Bioinformatics\",\n",
        "    \"Computer graphics\",\n",
        "    \"Cryptography, security, and privacy (CrySP)\",\n",
        "    \"Data systems\",\n",
        "    \"Formal methods\",\n",
        "    \"Health informatics\",\n",
        "    \"Human computer interaction (HCI)\",\n",
        "    \"Programming languages\",\n",
        "    \"Quantum computing\",\n",
        "    \"Scientific computation\",\n",
        "    \"Software engineering\",\n",
        "    \"Systems and networking\"\n",
        "]\n",
        "\n",
        "ipywidgets.interact(plot_heatmap, bin_size=(0, 100, 5), research_area=options)\n"
      ]
    },
    {
      "cell_type": "code",
      "execution_count": 13,
      "metadata": {
        "id": "oN-75iV1OYQ5"
      },
      "outputs": [],
      "source": []
    }
  ],
  "metadata": {
    "colab": {
      "collapsed_sections": [],
      "provenance": []
    },
    "kernelspec": {
      "display_name": "Python 3",
      "name": "python3"
    },
    "language_info": {
      "name": "python"
    },
    "widgets": {
      "application/vnd.jupyter.widget-state+json": {
        "0c036d15b8c840dda0836c8e770b8a1d": {
          "model_module": "@jupyter-widgets/base",
          "model_module_version": "1.2.0",
          "model_name": "LayoutModel",
          "state": {
            "_model_module": "@jupyter-widgets/base",
            "_model_module_version": "1.2.0",
            "_model_name": "LayoutModel",
            "_view_count": null,
            "_view_module": "@jupyter-widgets/base",
            "_view_module_version": "1.2.0",
            "_view_name": "LayoutView",
            "align_content": null,
            "align_items": null,
            "align_self": null,
            "border": null,
            "bottom": null,
            "display": null,
            "flex": null,
            "flex_flow": null,
            "grid_area": null,
            "grid_auto_columns": null,
            "grid_auto_flow": null,
            "grid_auto_rows": null,
            "grid_column": null,
            "grid_gap": null,
            "grid_row": null,
            "grid_template_areas": null,
            "grid_template_columns": null,
            "grid_template_rows": null,
            "height": null,
            "justify_content": null,
            "justify_items": null,
            "left": null,
            "margin": null,
            "max_height": null,
            "max_width": null,
            "min_height": null,
            "min_width": null,
            "object_fit": null,
            "object_position": null,
            "order": null,
            "overflow": null,
            "overflow_x": null,
            "overflow_y": null,
            "padding": null,
            "right": null,
            "top": null,
            "visibility": null,
            "width": null
          }
        },
        "19a90df990d04e9a98eeb15b46133545": {
          "model_module": "@jupyter-widgets/controls",
          "model_module_version": "1.5.0",
          "model_name": "IntSliderModel",
          "state": {
            "_dom_classes": [],
            "_model_module": "@jupyter-widgets/controls",
            "_model_module_version": "1.5.0",
            "_model_name": "IntSliderModel",
            "_view_count": null,
            "_view_module": "@jupyter-widgets/controls",
            "_view_module_version": "1.5.0",
            "_view_name": "IntSliderView",
            "continuous_update": true,
            "description": "bin_size",
            "description_tooltip": null,
            "disabled": false,
            "layout": "IPY_MODEL_98ce88f893c5407fb6c3eeb87197efbb",
            "max": 100,
            "min": 0,
            "orientation": "horizontal",
            "readout": true,
            "readout_format": "d",
            "step": 5,
            "style": "IPY_MODEL_389999fefbc2476aa6574e964fc0f753",
            "value": 50
          }
        },
        "26b191c336d3404198b5243d18aebe3b": {
          "model_module": "@jupyter-widgets/controls",
          "model_module_version": "1.5.0",
          "model_name": "DescriptionStyleModel",
          "state": {
            "_model_module": "@jupyter-widgets/controls",
            "_model_module_version": "1.5.0",
            "_model_name": "DescriptionStyleModel",
            "_view_count": null,
            "_view_module": "@jupyter-widgets/base",
            "_view_module_version": "1.2.0",
            "_view_name": "StyleView",
            "description_width": ""
          }
        },
        "389999fefbc2476aa6574e964fc0f753": {
          "model_module": "@jupyter-widgets/controls",
          "model_module_version": "1.5.0",
          "model_name": "SliderStyleModel",
          "state": {
            "_model_module": "@jupyter-widgets/controls",
            "_model_module_version": "1.5.0",
            "_model_name": "SliderStyleModel",
            "_view_count": null,
            "_view_module": "@jupyter-widgets/base",
            "_view_module_version": "1.2.0",
            "_view_name": "StyleView",
            "description_width": "",
            "handle_color": null
          }
        },
        "64707c61adae48df99162b54147474e9": {
          "model_module": "@jupyter-widgets/base",
          "model_module_version": "1.2.0",
          "model_name": "LayoutModel",
          "state": {
            "_model_module": "@jupyter-widgets/base",
            "_model_module_version": "1.2.0",
            "_model_name": "LayoutModel",
            "_view_count": null,
            "_view_module": "@jupyter-widgets/base",
            "_view_module_version": "1.2.0",
            "_view_name": "LayoutView",
            "align_content": null,
            "align_items": null,
            "align_self": null,
            "border": null,
            "bottom": null,
            "display": null,
            "flex": null,
            "flex_flow": null,
            "grid_area": null,
            "grid_auto_columns": null,
            "grid_auto_flow": null,
            "grid_auto_rows": null,
            "grid_column": null,
            "grid_gap": null,
            "grid_row": null,
            "grid_template_areas": null,
            "grid_template_columns": null,
            "grid_template_rows": null,
            "height": null,
            "justify_content": null,
            "justify_items": null,
            "left": null,
            "margin": null,
            "max_height": null,
            "max_width": null,
            "min_height": null,
            "min_width": null,
            "object_fit": null,
            "object_position": null,
            "order": null,
            "overflow": null,
            "overflow_x": null,
            "overflow_y": null,
            "padding": null,
            "right": null,
            "top": null,
            "visibility": null,
            "width": null
          }
        },
        "658d18adaad642c189154a08147708f5": {
          "model_module": "@jupyter-widgets/controls",
          "model_module_version": "1.5.0",
          "model_name": "VBoxModel",
          "state": {
            "_dom_classes": [
              "widget-interact"
            ],
            "_model_module": "@jupyter-widgets/controls",
            "_model_module_version": "1.5.0",
            "_model_name": "VBoxModel",
            "_view_count": null,
            "_view_module": "@jupyter-widgets/controls",
            "_view_module_version": "1.5.0",
            "_view_name": "VBoxView",
            "box_style": "",
            "children": [
              "IPY_MODEL_19a90df990d04e9a98eeb15b46133545",
              "IPY_MODEL_a813f1f5aa4a4e2ab851a3eae735383a",
              "IPY_MODEL_ab6d207b57ff4094b898b082619ce418"
            ],
            "layout": "IPY_MODEL_674e84be395d4160bbd7b8ce55b0b7a0"
          }
        },
        "674e84be395d4160bbd7b8ce55b0b7a0": {
          "model_module": "@jupyter-widgets/base",
          "model_module_version": "1.2.0",
          "model_name": "LayoutModel",
          "state": {
            "_model_module": "@jupyter-widgets/base",
            "_model_module_version": "1.2.0",
            "_model_name": "LayoutModel",
            "_view_count": null,
            "_view_module": "@jupyter-widgets/base",
            "_view_module_version": "1.2.0",
            "_view_name": "LayoutView",
            "align_content": null,
            "align_items": null,
            "align_self": null,
            "border": null,
            "bottom": null,
            "display": null,
            "flex": null,
            "flex_flow": null,
            "grid_area": null,
            "grid_auto_columns": null,
            "grid_auto_flow": null,
            "grid_auto_rows": null,
            "grid_column": null,
            "grid_gap": null,
            "grid_row": null,
            "grid_template_areas": null,
            "grid_template_columns": null,
            "grid_template_rows": null,
            "height": null,
            "justify_content": null,
            "justify_items": null,
            "left": null,
            "margin": null,
            "max_height": null,
            "max_width": null,
            "min_height": null,
            "min_width": null,
            "object_fit": null,
            "object_position": null,
            "order": null,
            "overflow": null,
            "overflow_x": null,
            "overflow_y": null,
            "padding": null,
            "right": null,
            "top": null,
            "visibility": null,
            "width": null
          }
        },
        "98ce88f893c5407fb6c3eeb87197efbb": {
          "model_module": "@jupyter-widgets/base",
          "model_module_version": "1.2.0",
          "model_name": "LayoutModel",
          "state": {
            "_model_module": "@jupyter-widgets/base",
            "_model_module_version": "1.2.0",
            "_model_name": "LayoutModel",
            "_view_count": null,
            "_view_module": "@jupyter-widgets/base",
            "_view_module_version": "1.2.0",
            "_view_name": "LayoutView",
            "align_content": null,
            "align_items": null,
            "align_self": null,
            "border": null,
            "bottom": null,
            "display": null,
            "flex": null,
            "flex_flow": null,
            "grid_area": null,
            "grid_auto_columns": null,
            "grid_auto_flow": null,
            "grid_auto_rows": null,
            "grid_column": null,
            "grid_gap": null,
            "grid_row": null,
            "grid_template_areas": null,
            "grid_template_columns": null,
            "grid_template_rows": null,
            "height": null,
            "justify_content": null,
            "justify_items": null,
            "left": null,
            "margin": null,
            "max_height": null,
            "max_width": null,
            "min_height": null,
            "min_width": null,
            "object_fit": null,
            "object_position": null,
            "order": null,
            "overflow": null,
            "overflow_x": null,
            "overflow_y": null,
            "padding": null,
            "right": null,
            "top": null,
            "visibility": null,
            "width": null
          }
        },
        "a813f1f5aa4a4e2ab851a3eae735383a": {
          "model_module": "@jupyter-widgets/controls",
          "model_module_version": "1.5.0",
          "model_name": "DropdownModel",
          "state": {
            "_dom_classes": [],
            "_model_module": "@jupyter-widgets/controls",
            "_model_module_version": "1.5.0",
            "_model_name": "DropdownModel",
            "_options_labels": [
              "All",
              "Algorithms and complexity",
              "Artificial intelligence and machine learning",
              "Bioinformatics",
              "Computer graphics",
              "Cryptography, security, and privacy (CrySP)",
              "Data systems",
              "Formal methods",
              "Health informatics",
              "Human computer interaction (HCI)",
              "Programming languages",
              "Quantum computing",
              "Scientific computation",
              "Software engineering",
              "Systems and networking"
            ],
            "_view_count": null,
            "_view_module": "@jupyter-widgets/controls",
            "_view_module_version": "1.5.0",
            "_view_name": "DropdownView",
            "description": "research_area",
            "description_tooltip": null,
            "disabled": false,
            "index": 0,
            "layout": "IPY_MODEL_64707c61adae48df99162b54147474e9",
            "style": "IPY_MODEL_26b191c336d3404198b5243d18aebe3b"
          }
        },
        "ab6d207b57ff4094b898b082619ce418": {
          "model_module": "@jupyter-widgets/output",
          "model_module_version": "1.0.0",
          "model_name": "OutputModel",
          "state": {
            "_dom_classes": [],
            "_model_module": "@jupyter-widgets/output",
            "_model_module_version": "1.0.0",
            "_model_name": "OutputModel",
            "_view_count": null,
            "_view_module": "@jupyter-widgets/output",
            "_view_module_version": "1.0.0",
            "_view_name": "OutputView",
            "layout": "IPY_MODEL_0c036d15b8c840dda0836c8e770b8a1d",
            "msg_id": "",
            "outputs": [
              {
                "data": {
                  "text/html": "<html>\n<head><meta charset=\"utf-8\" /></head>\n<body>\n    <div>            <script src=\"https://cdnjs.cloudflare.com/ajax/libs/mathjax/2.7.5/MathJax.js?config=TeX-AMS-MML_SVG\"></script><script type=\"text/javascript\">if (window.MathJax) {MathJax.Hub.Config({SVG: {font: \"STIX-Web\"}});}</script>                <script type=\"text/javascript\">window.PlotlyConfig = {MathJaxConfig: 'local'};</script>\n        <script src=\"https://cdn.plot.ly/plotly-2.8.3.min.js\"></script>                <div id=\"6f5139fe-c218-414c-8aa1-b326e84f79ba\" class=\"plotly-graph-div\" style=\"height:1000px; width:1000px;\"></div>            <script type=\"text/javascript\">                                    window.PLOTLYENV=window.PLOTLYENV || {};                                    if (document.getElementById(\"6f5139fe-c218-414c-8aa1-b326e84f79ba\")) {                    Plotly.newPlot(                        \"6f5139fe-c218-414c-8aa1-b326e84f79ba\",                        [{\"coloraxis\":\"coloraxis\",\"hovertemplate\":\"Coauthors=%{x}<br>Publications=%{y}<br>count=%{z}<extra></extra>\",\"name\":\"\",\"nbinsx\":50,\"nbinsy\":50,\"x\":[114,33,159,64,40,25,26,66,78,87,41,173,30,216,159,56,47,224,101,45,114,75,40,164,34,137,21,140,78,106,180,464,302,94,53,147,112,40,87,173,159,10,18,14,52,72,4,77,53,53,15,131,57,79,169,8,101,169,82,123,129,21,48,175,464,312,114,96,77,61,102,32,90,22,157,91,14,140,180,173,8,54,302,59,180,134,99,25,29,100,47,84,11,50,40,33,66,45,52,22,34,70,18,54,98,90,132,141,109,138,80,22,51,62,359,109,29,123,131,57,79,47,157,33,36,54,22,46,76,59,112],\"xaxis\":\"x\",\"xbingroup\":\"x\",\"y\":[158,54,260,77,64,40,28,53,102,248,74,271,12,235,298,88,57,367,317,72,158,109,64,176,38,119,36,121,102,130,72,495,192,108,72,111,57,64,248,271,298,5,19,5,47,49,5,64,51,25,11,132,44,76,211,6,317,227,132,62,147,36,37,146,495,300,92,59,77,130,91,92,82,41,144,52,23,121,72,271,6,56,192,54,72,105,56,40,37,96,57,39,12,30,48,54,53,72,47,30,38,108,19,56,156,82,181,135,93,100,38,41,47,45,491,75,37,62,132,44,76,55,159,20,14,41,41,74,48,54,57],\"yaxis\":\"y\",\"ybingroup\":\"y\",\"type\":\"histogram2d\"}],                        {\"template\":{\"data\":{\"bar\":[{\"error_x\":{\"color\":\"#2a3f5f\"},\"error_y\":{\"color\":\"#2a3f5f\"},\"marker\":{\"line\":{\"color\":\"#E5ECF6\",\"width\":0.5},\"pattern\":{\"fillmode\":\"overlay\",\"size\":10,\"solidity\":0.2}},\"type\":\"bar\"}],\"barpolar\":[{\"marker\":{\"line\":{\"color\":\"#E5ECF6\",\"width\":0.5},\"pattern\":{\"fillmode\":\"overlay\",\"size\":10,\"solidity\":0.2}},\"type\":\"barpolar\"}],\"carpet\":[{\"aaxis\":{\"endlinecolor\":\"#2a3f5f\",\"gridcolor\":\"white\",\"linecolor\":\"white\",\"minorgridcolor\":\"white\",\"startlinecolor\":\"#2a3f5f\"},\"baxis\":{\"endlinecolor\":\"#2a3f5f\",\"gridcolor\":\"white\",\"linecolor\":\"white\",\"minorgridcolor\":\"white\",\"startlinecolor\":\"#2a3f5f\"},\"type\":\"carpet\"}],\"choropleth\":[{\"colorbar\":{\"outlinewidth\":0,\"ticks\":\"\"},\"type\":\"choropleth\"}],\"contour\":[{\"colorbar\":{\"outlinewidth\":0,\"ticks\":\"\"},\"colorscale\":[[0.0,\"#0d0887\"],[0.1111111111111111,\"#46039f\"],[0.2222222222222222,\"#7201a8\"],[0.3333333333333333,\"#9c179e\"],[0.4444444444444444,\"#bd3786\"],[0.5555555555555556,\"#d8576b\"],[0.6666666666666666,\"#ed7953\"],[0.7777777777777778,\"#fb9f3a\"],[0.8888888888888888,\"#fdca26\"],[1.0,\"#f0f921\"]],\"type\":\"contour\"}],\"contourcarpet\":[{\"colorbar\":{\"outlinewidth\":0,\"ticks\":\"\"},\"type\":\"contourcarpet\"}],\"heatmap\":[{\"colorbar\":{\"outlinewidth\":0,\"ticks\":\"\"},\"colorscale\":[[0.0,\"#0d0887\"],[0.1111111111111111,\"#46039f\"],[0.2222222222222222,\"#7201a8\"],[0.3333333333333333,\"#9c179e\"],[0.4444444444444444,\"#bd3786\"],[0.5555555555555556,\"#d8576b\"],[0.6666666666666666,\"#ed7953\"],[0.7777777777777778,\"#fb9f3a\"],[0.8888888888888888,\"#fdca26\"],[1.0,\"#f0f921\"]],\"type\":\"heatmap\"}],\"heatmapgl\":[{\"colorbar\":{\"outlinewidth\":0,\"ticks\":\"\"},\"colorscale\":[[0.0,\"#0d0887\"],[0.1111111111111111,\"#46039f\"],[0.2222222222222222,\"#7201a8\"],[0.3333333333333333,\"#9c179e\"],[0.4444444444444444,\"#bd3786\"],[0.5555555555555556,\"#d8576b\"],[0.6666666666666666,\"#ed7953\"],[0.7777777777777778,\"#fb9f3a\"],[0.8888888888888888,\"#fdca26\"],[1.0,\"#f0f921\"]],\"type\":\"heatmapgl\"}],\"histogram\":[{\"marker\":{\"pattern\":{\"fillmode\":\"overlay\",\"size\":10,\"solidity\":0.2}},\"type\":\"histogram\"}],\"histogram2d\":[{\"colorbar\":{\"outlinewidth\":0,\"ticks\":\"\"},\"colorscale\":[[0.0,\"#0d0887\"],[0.1111111111111111,\"#46039f\"],[0.2222222222222222,\"#7201a8\"],[0.3333333333333333,\"#9c179e\"],[0.4444444444444444,\"#bd3786\"],[0.5555555555555556,\"#d8576b\"],[0.6666666666666666,\"#ed7953\"],[0.7777777777777778,\"#fb9f3a\"],[0.8888888888888888,\"#fdca26\"],[1.0,\"#f0f921\"]],\"type\":\"histogram2d\"}],\"histogram2dcontour\":[{\"colorbar\":{\"outlinewidth\":0,\"ticks\":\"\"},\"colorscale\":[[0.0,\"#0d0887\"],[0.1111111111111111,\"#46039f\"],[0.2222222222222222,\"#7201a8\"],[0.3333333333333333,\"#9c179e\"],[0.4444444444444444,\"#bd3786\"],[0.5555555555555556,\"#d8576b\"],[0.6666666666666666,\"#ed7953\"],[0.7777777777777778,\"#fb9f3a\"],[0.8888888888888888,\"#fdca26\"],[1.0,\"#f0f921\"]],\"type\":\"histogram2dcontour\"}],\"mesh3d\":[{\"colorbar\":{\"outlinewidth\":0,\"ticks\":\"\"},\"type\":\"mesh3d\"}],\"parcoords\":[{\"line\":{\"colorbar\":{\"outlinewidth\":0,\"ticks\":\"\"}},\"type\":\"parcoords\"}],\"pie\":[{\"automargin\":true,\"type\":\"pie\"}],\"scatter\":[{\"marker\":{\"colorbar\":{\"outlinewidth\":0,\"ticks\":\"\"}},\"type\":\"scatter\"}],\"scatter3d\":[{\"line\":{\"colorbar\":{\"outlinewidth\":0,\"ticks\":\"\"}},\"marker\":{\"colorbar\":{\"outlinewidth\":0,\"ticks\":\"\"}},\"type\":\"scatter3d\"}],\"scattercarpet\":[{\"marker\":{\"colorbar\":{\"outlinewidth\":0,\"ticks\":\"\"}},\"type\":\"scattercarpet\"}],\"scattergeo\":[{\"marker\":{\"colorbar\":{\"outlinewidth\":0,\"ticks\":\"\"}},\"type\":\"scattergeo\"}],\"scattergl\":[{\"marker\":{\"colorbar\":{\"outlinewidth\":0,\"ticks\":\"\"}},\"type\":\"scattergl\"}],\"scattermapbox\":[{\"marker\":{\"colorbar\":{\"outlinewidth\":0,\"ticks\":\"\"}},\"type\":\"scattermapbox\"}],\"scatterpolar\":[{\"marker\":{\"colorbar\":{\"outlinewidth\":0,\"ticks\":\"\"}},\"type\":\"scatterpolar\"}],\"scatterpolargl\":[{\"marker\":{\"colorbar\":{\"outlinewidth\":0,\"ticks\":\"\"}},\"type\":\"scatterpolargl\"}],\"scatterternary\":[{\"marker\":{\"colorbar\":{\"outlinewidth\":0,\"ticks\":\"\"}},\"type\":\"scatterternary\"}],\"surface\":[{\"colorbar\":{\"outlinewidth\":0,\"ticks\":\"\"},\"colorscale\":[[0.0,\"#0d0887\"],[0.1111111111111111,\"#46039f\"],[0.2222222222222222,\"#7201a8\"],[0.3333333333333333,\"#9c179e\"],[0.4444444444444444,\"#bd3786\"],[0.5555555555555556,\"#d8576b\"],[0.6666666666666666,\"#ed7953\"],[0.7777777777777778,\"#fb9f3a\"],[0.8888888888888888,\"#fdca26\"],[1.0,\"#f0f921\"]],\"type\":\"surface\"}],\"table\":[{\"cells\":{\"fill\":{\"color\":\"#EBF0F8\"},\"line\":{\"color\":\"white\"}},\"header\":{\"fill\":{\"color\":\"#C8D4E3\"},\"line\":{\"color\":\"white\"}},\"type\":\"table\"}]},\"layout\":{\"annotationdefaults\":{\"arrowcolor\":\"#2a3f5f\",\"arrowhead\":0,\"arrowwidth\":1},\"autotypenumbers\":\"strict\",\"coloraxis\":{\"colorbar\":{\"outlinewidth\":0,\"ticks\":\"\"}},\"colorscale\":{\"diverging\":[[0,\"#8e0152\"],[0.1,\"#c51b7d\"],[0.2,\"#de77ae\"],[0.3,\"#f1b6da\"],[0.4,\"#fde0ef\"],[0.5,\"#f7f7f7\"],[0.6,\"#e6f5d0\"],[0.7,\"#b8e186\"],[0.8,\"#7fbc41\"],[0.9,\"#4d9221\"],[1,\"#276419\"]],\"sequential\":[[0.0,\"#0d0887\"],[0.1111111111111111,\"#46039f\"],[0.2222222222222222,\"#7201a8\"],[0.3333333333333333,\"#9c179e\"],[0.4444444444444444,\"#bd3786\"],[0.5555555555555556,\"#d8576b\"],[0.6666666666666666,\"#ed7953\"],[0.7777777777777778,\"#fb9f3a\"],[0.8888888888888888,\"#fdca26\"],[1.0,\"#f0f921\"]],\"sequentialminus\":[[0.0,\"#0d0887\"],[0.1111111111111111,\"#46039f\"],[0.2222222222222222,\"#7201a8\"],[0.3333333333333333,\"#9c179e\"],[0.4444444444444444,\"#bd3786\"],[0.5555555555555556,\"#d8576b\"],[0.6666666666666666,\"#ed7953\"],[0.7777777777777778,\"#fb9f3a\"],[0.8888888888888888,\"#fdca26\"],[1.0,\"#f0f921\"]]},\"colorway\":[\"#636efa\",\"#EF553B\",\"#00cc96\",\"#ab63fa\",\"#FFA15A\",\"#19d3f3\",\"#FF6692\",\"#B6E880\",\"#FF97FF\",\"#FECB52\"],\"font\":{\"color\":\"#2a3f5f\"},\"geo\":{\"bgcolor\":\"white\",\"lakecolor\":\"white\",\"landcolor\":\"#E5ECF6\",\"showlakes\":true,\"showland\":true,\"subunitcolor\":\"white\"},\"hoverlabel\":{\"align\":\"left\"},\"hovermode\":\"closest\",\"mapbox\":{\"style\":\"light\"},\"paper_bgcolor\":\"white\",\"plot_bgcolor\":\"#E5ECF6\",\"polar\":{\"angularaxis\":{\"gridcolor\":\"white\",\"linecolor\":\"white\",\"ticks\":\"\"},\"bgcolor\":\"#E5ECF6\",\"radialaxis\":{\"gridcolor\":\"white\",\"linecolor\":\"white\",\"ticks\":\"\"}},\"scene\":{\"xaxis\":{\"backgroundcolor\":\"#E5ECF6\",\"gridcolor\":\"white\",\"gridwidth\":2,\"linecolor\":\"white\",\"showbackground\":true,\"ticks\":\"\",\"zerolinecolor\":\"white\"},\"yaxis\":{\"backgroundcolor\":\"#E5ECF6\",\"gridcolor\":\"white\",\"gridwidth\":2,\"linecolor\":\"white\",\"showbackground\":true,\"ticks\":\"\",\"zerolinecolor\":\"white\"},\"zaxis\":{\"backgroundcolor\":\"#E5ECF6\",\"gridcolor\":\"white\",\"gridwidth\":2,\"linecolor\":\"white\",\"showbackground\":true,\"ticks\":\"\",\"zerolinecolor\":\"white\"}},\"shapedefaults\":{\"line\":{\"color\":\"#2a3f5f\"}},\"ternary\":{\"aaxis\":{\"gridcolor\":\"white\",\"linecolor\":\"white\",\"ticks\":\"\"},\"baxis\":{\"gridcolor\":\"white\",\"linecolor\":\"white\",\"ticks\":\"\"},\"bgcolor\":\"#E5ECF6\",\"caxis\":{\"gridcolor\":\"white\",\"linecolor\":\"white\",\"ticks\":\"\"}},\"title\":{\"x\":0.05},\"xaxis\":{\"automargin\":true,\"gridcolor\":\"white\",\"linecolor\":\"white\",\"ticks\":\"\",\"title\":{\"standoff\":15},\"zerolinecolor\":\"white\",\"zerolinewidth\":2},\"yaxis\":{\"automargin\":true,\"gridcolor\":\"white\",\"linecolor\":\"white\",\"ticks\":\"\",\"title\":{\"standoff\":15},\"zerolinecolor\":\"white\",\"zerolinewidth\":2}}},\"xaxis\":{\"anchor\":\"y\",\"domain\":[0.0,1.0],\"title\":{\"text\":\"Coauthors\"}},\"yaxis\":{\"anchor\":\"x\",\"domain\":[0.0,1.0],\"title\":{\"text\":\"Publications\"},\"tickmode\":\"array\",\"tickvals\":[0,50,100,150,200,250,300,350,400,450,500]},\"coloraxis\":{\"colorbar\":{\"title\":{\"text\":\"count\"}},\"colorscale\":[[0.0,\"#0d0887\"],[0.1111111111111111,\"#46039f\"],[0.2222222222222222,\"#7201a8\"],[0.3333333333333333,\"#9c179e\"],[0.4444444444444444,\"#bd3786\"],[0.5555555555555556,\"#d8576b\"],[0.6666666666666666,\"#ed7953\"],[0.7777777777777778,\"#fb9f3a\"],[0.8888888888888888,\"#fdca26\"],[1.0,\"#f0f921\"]]},\"legend\":{\"tracegroupgap\":0},\"title\":{\"text\":\"Coauthors vs Publications in the David R. Cheriton School of Computer Science, University of Waterloo\"},\"height\":1000,\"width\":1000,\"shapes\":[{\"type\":\"line\",\"x0\":0,\"x1\":1,\"xref\":\"paper\",\"y0\":0,\"y1\":1,\"yref\":\"paper\"}]},                        {\"responsive\": true}                    ).then(function(){\n                            \nvar gd = document.getElementById('6f5139fe-c218-414c-8aa1-b326e84f79ba');\nvar x = new MutationObserver(function (mutations, observer) {{\n        var display = window.getComputedStyle(gd).display;\n        if (!display || display === 'none') {{\n            console.log([gd, 'removed!']);\n            Plotly.purge(gd);\n            observer.disconnect();\n        }}\n}});\n\n// Listen for the removal of the full notebook cells\nvar notebookContainer = gd.closest('#notebook-container');\nif (notebookContainer) {{\n    x.observe(notebookContainer, {childList: true});\n}}\n\n// Listen for the clearing of the current output cell\nvar outputEl = gd.closest('.output');\nif (outputEl) {{\n    x.observe(outputEl, {childList: true});\n}}\n\n                        })                };                            </script>        </div>\n</body>\n</html>"
                },
                "metadata": {},
                "output_type": "display_data"
              }
            ]
          }
        }
      }
    }
  },
  "nbformat": 4,
  "nbformat_minor": 0
}
